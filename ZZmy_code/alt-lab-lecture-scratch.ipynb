{
 "cells": [
  {
   "cell_type": "markdown",
   "id": "ee8cfb1c",
   "metadata": {},
   "source": [
    "# Sep 2025 - Zach Wilson DataExpert BEGINNER Bootcamp\n",
    "# Python 'intro' video -- builds stock ticker via API script\n",
    "# NOTES: \n",
    "#   - Requires Polygon.AI free account (https://polygon.io/)\n",
    "#   - Best practice = store API key in .env file\n",
    "#   - Best practice = store required libraries in a requirements.txt file (use to install: pip install -r requirements.txt)\n",
    "#\n",
    "#"
   ]
  }
 ],
 "metadata": {
  "language_info": {
   "name": "python"
  }
 },
 "nbformat": 4,
 "nbformat_minor": 5
}
